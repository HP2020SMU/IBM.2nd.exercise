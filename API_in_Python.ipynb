{
  "nbformat": 4,
  "nbformat_minor": 0,
  "metadata": {
    "colab": {
      "name": "API in Python.ipynb",
      "provenance": [],
      "collapsed_sections": [
        "OFRUDor6oH3q",
        "pex-9puNoe_w",
        "xG6xrKuLsDU8"
      ],
      "toc_visible": true,
      "authorship_tag": "ABX9TyN3zXvttWKH579fm0twJtJR",
      "include_colab_link": true
    },
    "kernelspec": {
      "name": "python3",
      "display_name": "Python 3"
    },
    "language_info": {
      "name": "python"
    }
  },
  "cells": [
    {
      "cell_type": "markdown",
      "metadata": {
        "id": "view-in-github",
        "colab_type": "text"
      },
      "source": [
        "<a href=\"https://colab.research.google.com/github/HP2020SMU/IBM.2nd.exercise/blob/main/API_in_Python.ipynb\" target=\"_parent\"><img src=\"https://colab.research.google.com/assets/colab-badge.svg\" alt=\"Open In Colab\"/></a>"
      ]
    },
    {
      "cell_type": "markdown",
      "source": [
        "## **API in Python**"
      ],
      "metadata": {
        "id": "1MjGtjYUYp6_"
      }
    },
    {
      "cell_type": "markdown",
      "source": [
        "#### **Get Request**"
      ],
      "metadata": {
        "id": "OFRUDor6oH3q"
      }
    },
    {
      "cell_type": "code",
      "execution_count": 25,
      "metadata": {
        "id": "VCxF_HAeYVST"
      },
      "outputs": [],
      "source": [
        "import requests\n",
        "\n",
        "import os\n",
        "from PIL import Image\n",
        "from IPython.display import IFrame\n",
        "\n",
        "url = 'http://www.ibm.com/'\n",
        "r = requests.get(url)\n",
        "\n",
        "##!!!:                 r is object of respone once \"requests.get(url)\" processing done."
      ]
    },
    {
      "cell_type": "code",
      "source": [
        "# view status code\n",
        "\n",
        "r.status_code"
      ],
      "metadata": {
        "colab": {
          "base_uri": "https://localhost:8080/"
        },
        "id": "DMAmlKSLZISd",
        "outputId": "96d5bdf0-2c0a-4a21-a0a6-13c7b4b3e68c"
      },
      "execution_count": 26,
      "outputs": [
        {
          "output_type": "execute_result",
          "data": {
            "text/plain": [
              "200"
            ]
          },
          "metadata": {},
          "execution_count": 26
        }
      ]
    },
    {
      "cell_type": "code",
      "source": [
        ""
      ],
      "metadata": {
        "id": "uxZPjMdci3sp"
      },
      "execution_count": null,
      "outputs": []
    },
    {
      "cell_type": "code",
      "source": [
        "# view request header\n",
        "\n",
        "print(r.request.headers)"
      ],
      "metadata": {
        "colab": {
          "base_uri": "https://localhost:8080/"
        },
        "id": "C7DSntVhZWia",
        "outputId": "7ffd91df-1281-49d9-a745-933b4b098432"
      },
      "execution_count": 15,
      "outputs": [
        {
          "output_type": "stream",
          "name": "stdout",
          "text": [
            "{'User-Agent': 'python-requests/2.23.0', 'Accept-Encoding': 'gzip, deflate', 'Accept': '*/*', 'Connection': 'keep-alive', 'Cookie': '_abck=28AE2C3620BDFA0E566E95CB9605608D~-1~YAAQxbQtF1T/M7h+AQAAgX5myAfB43kuuK5WukUbLAoC0FWWyhql59a2miQXoo5IMzEPZmK6itHExc1Ajuanv0U4iP8nCROcaGNTXrbpNEEJ8h0uaQujvE8aHVIlkTzrbbBc5Ur2h51QnMkPQ5X1fjOnMqiVEV7AUShQD2xTG5b6oxlxbT2jIw776P5+e8VY7y3K0MZEhoeMu8c3V4izL8SLNgZGX2uyOzgMzSS/harYPPh0VPMPjBhCIDHclBd7qMt8jhVwEaSDGEHHHe8k/bm85/4L4jmFi6FuFa6Je3NjNjE+yRWgVhfSfBCgeykyb4ue83tuS8Wsn61gWgt6T/0=~-1~-1~-1; bm_sz=CC71DC6F670F0BD8B5336BA1F3E01C5F~YAAQxbQtF1X/M7h+AQAAgX5myA4glkoXTfrk4/Nv0zzN4/9ELcbeZmMdZABn5yBokMsqzWc0kU8juU9xwF76RdSQ4ofTQp879VVtjPS4ZIZb0By20eaZjAUM6SqNZ8bf3JzWMrQBi/gfxnLt0kbAiQ1KBz4JTXpRcEX3m6TYCzGxp5UZAlYTCr114fhviWpbsTUY1bjVD/yptGS59KyvPMm3Y32MamZUDciIMjDIEOO+aXpK0eackUX2rFQiDzkaLiAj7c7XxMciLCf4NJW8WZKkLB/IP0q0jMXj9hop+00=~4342832~4408628'}\n"
          ]
        }
      ]
    },
    {
      "cell_type": "code",
      "source": [
        "# view request body\n",
        "\n",
        "print(\"request body:\", r.request.body)"
      ],
      "metadata": {
        "colab": {
          "base_uri": "https://localhost:8080/"
        },
        "id": "c2fxFHtFaeK_",
        "outputId": "84c3fd15-24f2-4d66-fe45-a341d51b18ee"
      },
      "execution_count": 17,
      "outputs": [
        {
          "output_type": "stream",
          "name": "stdout",
          "text": [
            "request body: None\n"
          ]
        }
      ]
    },
    {
      "cell_type": "code",
      "source": [
        "# view HTTP respone header using the attribut headers\n",
        "\n",
        "header=r.headers\n",
        "print(r.headers)"
      ],
      "metadata": {
        "colab": {
          "base_uri": "https://localhost:8080/"
        },
        "id": "mgQ11on3a2aO",
        "outputId": "3f2150ca-1302-46b1-b2cf-74013244dd98"
      },
      "execution_count": 18,
      "outputs": [
        {
          "output_type": "stream",
          "name": "stdout",
          "text": [
            "{'Cache-Control': 'max-age=301', 'Expires': 'Fri, 04 Feb 2022 19:30:54 GMT', 'Last-Modified': 'Fri, 04 Feb 2022 18:46:04 GMT', 'ETag': '\"1637e-5d735a9b89e1f\"', 'Accept-Ranges': 'bytes', 'Content-Encoding': 'gzip', 'Content-Type': 'text/html', 'X-Akamai-Transformed': '9 18094 0 pmb=mTOE,1', 'Date': 'Sat, 05 Feb 2022 05:41:07 GMT', 'Content-Length': '18169', 'Connection': 'keep-alive', 'Vary': 'Accept-Encoding', 'x-content-type-options': 'nosniff', 'X-XSS-Protection': '1; mode=block', 'Content-Security-Policy': 'upgrade-insecure-requests', 'Strict-Transport-Security': 'max-age=31536000'}\n"
          ]
        }
      ]
    },
    {
      "cell_type": "code",
      "source": [
        "# obtain data the request was sent using the key (Date)\n",
        "\n",
        "header['date']"
      ],
      "metadata": {
        "colab": {
          "base_uri": "https://localhost:8080/",
          "height": 35
        },
        "id": "ayAVmXopb4PL",
        "outputId": "da67af1a-5797-484b-b256-0d366cd7fb2a"
      },
      "execution_count": 23,
      "outputs": [
        {
          "output_type": "execute_result",
          "data": {
            "application/vnd.google.colaboratory.intrinsic+json": {
              "type": "string"
            },
            "text/plain": [
              "'Sat, 05 Feb 2022 05:41:07 GMT'"
            ]
          },
          "metadata": {},
          "execution_count": 23
        }
      ]
    },
    {
      "cell_type": "markdown",
      "source": [
        "##### **query string**"
      ],
      "metadata": {
        "id": "w3Bmco5Jn69A"
      }
    },
    {
      "cell_type": "code",
      "source": [
        "# Create (query string)\n",
        "\n",
        "url_get = 'http://httpbin.org/get?Name=Joseph&ID=123'\n",
        "payload = {\"name\" : \"Joseph\", \"ID\" : \"123\"}\n",
        "r= requests.get(url_get, params=payload)\n",
        "r.url"
      ],
      "metadata": {
        "colab": {
          "base_uri": "https://localhost:8080/",
          "height": 35
        },
        "id": "bYlaRMkRkdfE",
        "outputId": "5c20e995-07c1-4a51-b742-6b1a6e8e0b86"
      },
      "execution_count": 30,
      "outputs": [
        {
          "output_type": "execute_result",
          "data": {
            "application/vnd.google.colaboratory.intrinsic+json": {
              "type": "string"
            },
            "text/plain": [
              "'http://httpbin.org/get?Name=Joseph&ID=123&name=Joseph&ID=123'"
            ]
          },
          "metadata": {},
          "execution_count": 30
        }
      ]
    },
    {
      "cell_type": "markdown",
      "source": [
        "#### **Post Request**"
      ],
      "metadata": {
        "id": "pex-9puNoe_w"
      }
    },
    {
      "cell_type": "code",
      "source": [
        "# Like a Get Request, POST is used to send data to web server\n",
        "# but sends the data in a request body.\n",
        "\n",
        "url_post= 'http://httpbin.org/post'\n",
        "\n",
        "# This endpoint will expect data as a file or as a form.\n",
        "# A form is convenient way to ocnfigure an HTTPrequest to send data to a server.\n"
      ],
      "metadata": {
        "id": "eBHbxX79oi30"
      },
      "execution_count": 32,
      "outputs": []
    },
    {
      "cell_type": "code",
      "source": [
        "# To make POST request, use post() function, variable payload is passed to parameter (data):\n",
        "\n",
        "r_post= requests.post(url_post, data=payload)"
      ],
      "metadata": {
        "id": "V133ehT_qh6f"
      },
      "execution_count": 33,
      "outputs": []
    },
    {
      "cell_type": "code",
      "source": [
        "# Comparing URL from response objectof GET & POST request\n",
        "# we see (POST) request no (name) or (value pairs)\n",
        "\n",
        "print(\"POST request URL:\", r_post.url)\n",
        "print(\"GET request URL:\", r.url)"
      ],
      "metadata": {
        "colab": {
          "base_uri": "https://localhost:8080/"
        },
        "id": "3fQa5_IJrBnJ",
        "outputId": "f7de57e1-71d2-4dbb-d664-3ea254838b6f"
      },
      "execution_count": 34,
      "outputs": [
        {
          "output_type": "stream",
          "name": "stdout",
          "text": [
            "POST request URL: http://httpbin.org/post\n",
            "GET request URL: http://httpbin.org/get?Name=Joseph&ID=123&name=Joseph&ID=123\n"
          ]
        }
      ]
    },
    {
      "cell_type": "code",
      "source": [
        "# Only (POST) request has a (body)\n",
        "\n",
        "print(\"POST request body:\", r_post.request.body)\n",
        "print(\"GET request body:\", r.request.body)"
      ],
      "metadata": {
        "colab": {
          "base_uri": "https://localhost:8080/"
        },
        "id": "MuMWVQtFrrc7",
        "outputId": "b2ccc956-3fbd-4cdb-f0f8-83f900dd60be"
      },
      "execution_count": 35,
      "outputs": [
        {
          "output_type": "stream",
          "name": "stdout",
          "text": [
            "POST request body: name=Joseph&ID=123\n",
            "GET request body: None\n"
          ]
        }
      ]
    },
    {
      "cell_type": "markdown",
      "source": [
        "#### **Error Group ?**"
      ],
      "metadata": {
        "id": "SiNDaTng4V5r"
      }
    },
    {
      "cell_type": "markdown",
      "source": [
        "##### **Error:Document Tree**"
      ],
      "metadata": {
        "id": "xG6xrKuLsDU8"
      }
    },
    {
      "cell_type": "code",
      "source": [
        "# Error occurred due to short of (%%html)\n",
        "\n",
        "%%html\n",
        "<!DOCTYPE html>\n",
        "<html>\n",
        "<head>\n",
        "<title>Page Title</title>\n",
        "</head>\n",
        "<body>\n",
        "<h3><b id='boldest'> Lebron James </b></h3>\n",
        "<p> Salary: $ 92,000,000 </p>\n",
        "<h3> Stephen Curry </h3>\n",
        "<p> Salary: &85,000,000 </p>\n",
        "<h3> Kevin Durant </h3>\n",
        "<p> Salary: $73,200,000 </p>\n",
        "</body>\n",
        "</html>"
      ],
      "metadata": {
        "colab": {
          "base_uri": "https://localhost:8080/",
          "height": 203
        },
        "id": "yBS_uHsQsHwF",
        "outputId": "e4e3930c-8f15-4382-f3b5-0fd4f8698430"
      },
      "execution_count": 72,
      "outputs": [
        {
          "output_type": "display_data",
          "data": {
            "text/html": [
              "<!DOCTYPE html>\n",
              "<html>\n",
              "<head>\n",
              "<title>Page Title</title>\n",
              "</head>\n",
              "<body>\n",
              "<h3><b id='boldest'> Lebron James </b></h3>\n",
              "<p> Salary: $ 92,000,000 </p>\n",
              "<h3> Stephen Curry </h3>\n",
              "<p> Salary: &85,000,000 </p>\n",
              "<h3> Kevin Durant </h3>\n",
              "<p> Salary: $73,200,000 </p>\n",
              "</body>\n",
              "</html>"
            ],
            "text/plain": [
              "<IPython.core.display.HTML object>"
            ]
          },
          "metadata": {}
        }
      ]
    },
    {
      "cell_type": "markdown",
      "source": [
        "##### **Error: HTML Table**"
      ],
      "metadata": {
        "id": "IB-I78mss_xw"
      }
    },
    {
      "cell_type": "markdown",
      "source": [
        "##### **Error: Webscraping example**"
      ],
      "metadata": {
        "id": "4q7ZB15aEKFS"
      }
    },
    {
      "cell_type": "code",
      "source": [
        "# Equal to Document Tree\n",
        "\n",
        "%%html\n",
        "<!DOCTYPE html>\n",
        "<html>\n",
        "<head>\n",
        "<title>Page Title</title>\n",
        "</head>\n",
        "<body>\n",
        "<h3><b id='boldest'> Lebron James </b></h3>\n",
        "<p> Salary: $ 92,000,000 </p>\n",
        "<h3> Stephen Curry </h3>\n",
        "<p> Salary: &85,000,000 </p>\n",
        "<h3> Kevin Durant </h3>\n",
        "<p> Salary: $73,200,000 </p>\n",
        "</body>\n",
        "</html>"
      ],
      "metadata": {
        "colab": {
          "base_uri": "https://localhost:8080/",
          "height": 203
        },
        "id": "Cj3KTg5hERsK",
        "outputId": "40e296dd-91c4-427e-df91-dd59d1c9126c"
      },
      "execution_count": 73,
      "outputs": [
        {
          "output_type": "display_data",
          "data": {
            "text/html": [
              "<!DOCTYPE html>\n",
              "<html>\n",
              "<head>\n",
              "<title>Page Title</title>\n",
              "</head>\n",
              "<body>\n",
              "<h3><b id='boldest'> Lebron James </b></h3>\n",
              "<p> Salary: $ 92,000,000 </p>\n",
              "<h3> Stephen Curry </h3>\n",
              "<p> Salary: &85,000,000 </p>\n",
              "<h3> Kevin Durant </h3>\n",
              "<p> Salary: $73,200,000 </p>\n",
              "</body>\n",
              "</html>"
            ],
            "text/plain": [
              "<IPython.core.display.HTML object>"
            ]
          },
          "metadata": {}
        }
      ]
    },
    {
      "cell_type": "code",
      "source": [
        "# Error occurred due to short of (%%html)\n",
        "\n",
        "%%html\n",
        "<table>\n",
        "  <tr>\n",
        "    <td> Pizza Place </td>\n",
        "    <td> Drders </td>\n",
        "    <td> Slices </td>\n",
        "  <tr>\n",
        "    <td> Dominp Pizza </td>\n",
        "    <td> 10 </td>\n",
        "    <td> 100 </td>\n",
        "  <tr>\n",
        "    <td> Little Caesars </td>\n",
        "    <td> 12 </td>\n",
        "    <td> 144 </td>\n",
        "    </tr>\n",
        "</table>  "
      ],
      "metadata": {
        "colab": {
          "base_uri": "https://localhost:8080/",
          "height": 82
        },
        "id": "agyKI9aPtEFg",
        "outputId": "bec910c4-c4e9-4b1d-eee5-8c76aeca501e"
      },
      "execution_count": 69,
      "outputs": [
        {
          "output_type": "display_data",
          "data": {
            "text/html": [
              "<table>\n",
              "  <tr>\n",
              "    <td> Pizza Place </td>\n",
              "    <td> Drders </td>\n",
              "    <td> Slices </td>\n",
              "  <tr>\n",
              "    <td> Dominp Pizza </td>\n",
              "    <td> 10 </td>\n",
              "    <td> 100 </td>\n",
              "  <tr>\n",
              "    <td> Little Caesars </td>\n",
              "    <td> 12 </td>\n",
              "    <td> 144 </td>\n",
              "    </tr>\n",
              "</table>  "
            ],
            "text/plain": [
              "<IPython.core.display.HTML object>"
            ]
          },
          "metadata": {}
        }
      ]
    },
    {
      "cell_type": "markdown",
      "source": [
        "##### **Error: Tag Object**"
      ],
      "metadata": {
        "id": "S977f_jewyVw"
      }
    },
    {
      "cell_type": "code",
      "source": [
        "# Error occurred due to short of (%%html)\n",
        "\n",
        "%%html\n",
        "tag_object=soup.title\n",
        "tag_object:\n",
        "<title>Page Title</title>"
      ],
      "metadata": {
        "colab": {
          "base_uri": "https://localhost:8080/",
          "height": 34
        },
        "id": "I3z38NezxCoZ",
        "outputId": "75ddabce-6157-484c-ad8e-f434ef0c1a01"
      },
      "execution_count": 74,
      "outputs": [
        {
          "output_type": "display_data",
          "data": {
            "text/html": [
              "tag_object=soup.title\n",
              "tag_object:\n",
              "<title>Page Title</title>"
            ],
            "text/plain": [
              "<IPython.core.display.HTML object>"
            ]
          },
          "metadata": {}
        }
      ]
    },
    {
      "cell_type": "code",
      "source": [
        "# Error occurred due to short of (%%html)\n",
        "\n",
        "%%html\n",
        "tag_object=soup.h3\n",
        "tag_object: <h3><b id=\"boldest\"> Lebron James </b></h3>"
      ],
      "metadata": {
        "colab": {
          "base_uri": "https://localhost:8080/",
          "height": 75
        },
        "id": "1dzLzPb_xVc3",
        "outputId": "c26ffad8-e25a-4f2c-865a-a6ea53975ae2"
      },
      "execution_count": 80,
      "outputs": [
        {
          "output_type": "display_data",
          "data": {
            "text/html": [
              "tag_object=soup.h3\n",
              "tag_object: <h3><b id=\"boldest\"> Lebron James </b></h3>"
            ],
            "text/plain": [
              "<IPython.core.display.HTML object>"
            ]
          },
          "metadata": {}
        }
      ]
    },
    {
      "cell_type": "markdown",
      "source": [
        "##### **Error: HTML Tree**"
      ],
      "metadata": {
        "id": "-2HLxuR-F6Gy"
      }
    },
    {
      "cell_type": "code",
      "source": [
        "# Error occurred due to short of (%%html)\n",
        "\n",
        "%%html\n",
        "tag_object: <h3><b id=\"boldest\"> Lebron James </b></h3>\n",
        "\n",
        "tag_child = tag_object.bodytag_child:\n",
        "<b id=\"boldest\"> Lebron James </b>\n",
        "\n"
      ],
      "metadata": {
        "colab": {
          "base_uri": "https://localhost:8080/",
          "height": 92
        },
        "id": "vizZVF6PGGDz",
        "outputId": "6285e2a6-66a9-42e3-ab41-f1250fa512c3"
      },
      "execution_count": 84,
      "outputs": [
        {
          "output_type": "display_data",
          "data": {
            "text/html": [
              "tag_object: <h3><b id=\"boldest\"> Lebron James </b></h3>\n",
              "\n",
              "tag_child = tag_object.bodytag_child:\n",
              "<b id=\"boldest\"> Lebron James </b>\n"
            ],
            "text/plain": [
              "<IPython.core.display.HTML object>"
            ]
          },
          "metadata": {}
        }
      ]
    },
    {
      "cell_type": "markdown",
      "source": [
        "##### **Error: Parent attribute**"
      ],
      "metadata": {
        "id": "fEy5Od0MxzF0"
      }
    },
    {
      "cell_type": "code",
      "source": [
        "# Error occurred due to short of (%%html)\n",
        "\n",
        "%%html\n",
        "tag_child: <b id=\"boldest\"> Lebron James </b>\n",
        "\n",
        "parent_tag = tag_child.parent\n",
        "parent_tag:\n",
        "<h3><b id=\"boldest\"> Lebron James </b></h3>\n",
        "\n",
        "tag_object\n"
      ],
      "metadata": {
        "colab": {
          "base_uri": "https://localhost:8080/",
          "height": 92
        },
        "id": "YqyFF63sx3Hg",
        "outputId": "aba4b70f-1341-41b1-bc71-719c4080421f"
      },
      "execution_count": 87,
      "outputs": [
        {
          "output_type": "display_data",
          "data": {
            "text/html": [
              "tag_child: <b id=\"boldest\"> Lebron James </b>\n",
              "\n",
              "parent_tag = tag_child.parent\n",
              "parent_tag:\n",
              "<h3><b id=\"boldest\"> Lebron James </b></h3>\n",
              "\n",
              "tag_object"
            ],
            "text/plain": [
              "<IPython.core.display.HTML object>"
            ]
          },
          "metadata": {}
        }
      ]
    },
    {
      "cell_type": "markdown",
      "source": [
        "##### **Error: Next-sibling attribute**"
      ],
      "metadata": {
        "id": "Jgiz-MEnx5Ej"
      }
    },
    {
      "cell_type": "code",
      "source": [
        "# Error occurred due to short of (%%html)\n",
        "\n",
        "%%html\n",
        "sibling_1: <p> Salary: $ 92,000,000 <p>\n",
        "\n",
        "sibling_2 = sibling_1.next_sibling\n",
        "sibling_2:\n",
        "<h3> Stephen Curry </h3>"
      ],
      "metadata": {
        "colab": {
          "base_uri": "https://localhost:8080/",
          "height": 122
        },
        "id": "y8bhRO-1x8GJ",
        "outputId": "1034e5ed-2e59-4a69-8748-bcb94bbf64bc"
      },
      "execution_count": 88,
      "outputs": [
        {
          "output_type": "display_data",
          "data": {
            "text/html": [
              "sibling_1: <p> Salary: $ 92,000,000 <p>\n",
              "\n",
              "sibling_2 = sibling_1.next_sibling\n",
              "sibling_2:\n",
              "<h3> Stephen Curry </h3>"
            ],
            "text/plain": [
              "<IPython.core.display.HTML object>"
            ]
          },
          "metadata": {}
        }
      ]
    },
    {
      "cell_type": "markdown",
      "source": [
        "##### **Error: Navigable string**"
      ],
      "metadata": {
        "id": "Ir06triEx8mX"
      }
    },
    {
      "cell_type": "code",
      "source": [
        "# Error occurred due to short of (%%html)\n",
        "\n",
        "%%html\n",
        "tag_child: <b id=\"boldest\"> Lebron James </b>\n",
        "\n",
        "tag_child.attrs:\n",
        "{'id': 'boldest'}\n",
        "\n",
        "tag_child.string:\n",
        "'Lebron James'\n",
        "\n"
      ],
      "metadata": {
        "colab": {
          "base_uri": "https://localhost:8080/",
          "height": 34
        },
        "id": "Uq7OlFzNx9o0",
        "outputId": "059b6681-8059-455d-e275-9eb44c0df234"
      },
      "execution_count": 90,
      "outputs": [
        {
          "output_type": "display_data",
          "data": {
            "text/html": [
              "tag_child: <b id=\"boldest\"> Lebron James </b>\n",
              "\n",
              "tag_child.attrs:\n",
              "{'id': 'boldest'}\n",
              "\n",
              "tag_child.string:\n",
              "'Lebron James'\n"
            ],
            "text/plain": [
              "<IPython.core.display.HTML object>"
            ]
          },
          "metadata": {}
        }
      ]
    },
    {
      "cell_type": "markdown",
      "source": [
        "##### **Error: Python iterable**"
      ],
      "metadata": {
        "id": "oI1-9kTPykFk"
      }
    },
    {
      "cell_type": "code",
      "source": [
        "# Error occurred due to short of (%%html)\n",
        "\n",
        "%%html\n",
        "table_row=table.find_all(na e='tr')\n",
        "table_row:\n",
        "[<tr><td> Pizza Planc </td><td> Orders </td><td> Slices </td><td>,\n",
        " <tr><td> Domino's Pizza </td><td> 10 </td><td> 100 </td><td>,\n",
        " <tr><td> Little Caesars </td><td> 12 </td><td> 44 </td><td>]"
      ],
      "metadata": {
        "colab": {
          "base_uri": "https://localhost:8080/",
          "height": 34
        },
        "id": "yIGEjDUiymrC",
        "outputId": "01252237-f100-414c-d802-a30bb8eb1967"
      },
      "execution_count": 89,
      "outputs": [
        {
          "output_type": "display_data",
          "data": {
            "text/html": [
              "table_row=table.find_all(na e='tr')\n",
              "table_row:\n",
              "[<tr><td> Pizza Planc </td><td> Orders </td><td> Slices </td><td>,\n",
              " <tr><td> Domino's Pizza </td><td> 10 </td><td> 100 </td><td>,\n",
              " <tr><td> Little Caesars </td><td> 12 </td><td> 44 </td><td>]"
            ],
            "text/plain": [
              "<IPython.core.display.HTML object>"
            ]
          },
          "metadata": {}
        }
      ]
    },
    {
      "cell_type": "markdown",
      "source": [
        "##### **Error: Tag object**"
      ],
      "metadata": {
        "id": "jmdcWzCNAdNE"
      }
    },
    {
      "cell_type": "code",
      "source": [
        "%%html\n",
        "first_row=table_row[0]\n",
        "first_row:\n",
        "<tr><td> Pizza Planc </td><td> Orders </td><td> Slices </td><td>\n",
        "\n",
        "first_row.td:\n",
        "<td> Pizza Planc </td>"
      ],
      "metadata": {
        "colab": {
          "base_uri": "https://localhost:8080/",
          "height": 34
        },
        "id": "dWw_ksjKAlRS",
        "outputId": "08b1239f-8239-497c-e130-829e48a3de04"
      },
      "execution_count": 91,
      "outputs": [
        {
          "output_type": "display_data",
          "data": {
            "text/html": [
              "first_row=table_row[0]\n",
              "first_row:\n",
              "<tr><td> Pizza Planc </td><td> Orders </td><td> Slices </td><td>\n",
              "\n",
              "first_row.td:\n",
              "<td> Pizza Planc </td>"
            ],
            "text/plain": [
              "<IPython.core.display.HTML object>"
            ]
          },
          "metadata": {}
        }
      ]
    },
    {
      "cell_type": "markdown",
      "source": [
        "##### **Error: Variable row**"
      ],
      "metadata": {
        "id": "Y3nV9RzcBPxu"
      }
    },
    {
      "cell_type": "code",
      "source": [
        "%%html\n",
        "for i,row in enumerate(table_rows):\n",
        "  print(\"row\", i)\n",
        "  cells=row.find_all(\"td\")\n",
        "\n",
        "  for j,cell in enumerate(cells):\n",
        "    print(\"column\", j, \"cell\", cell)"
      ],
      "metadata": {
        "colab": {
          "base_uri": "https://localhost:8080/",
          "height": 34
        },
        "id": "g1QHSfxgDGWk",
        "outputId": "7741a4ed-f5a6-454c-e91e-82d93fa6e728"
      },
      "execution_count": 92,
      "outputs": [
        {
          "output_type": "display_data",
          "data": {
            "text/html": [
              "for i,row in enumerate(table_rows):\n",
              "  print(\"row\", i)\n",
              "  cells=row.find_all(\"td\")\n",
              "\n",
              "  for j,cell in enumerate(cells):\n",
              "    print(\"column\", j, \"cell\", cell)"
            ],
            "text/plain": [
              "<IPython.core.display.HTML object>"
            ]
          },
          "metadata": {}
        }
      ]
    },
    {
      "cell_type": "markdown",
      "source": [
        "##### **Error: Elements**"
      ],
      "metadata": {
        "id": "0lH1ZYNtBUzR"
      }
    },
    {
      "cell_type": "code",
      "source": [
        "%%html\n",
        "for i,row in enumerate(table_rows):\n",
        "  print(\"row\", i)\n",
        "  cells=row.find_all(\"td\")\n",
        "\n",
        "  for j,cell in enumerate(cells):\n",
        "    print(\"column\", j, \"cell\", cell)"
      ],
      "metadata": {
        "colab": {
          "base_uri": "https://localhost:8080/",
          "height": 34
        },
        "id": "HY6k4xlwIvkg",
        "outputId": "151e3d1d-5032-43f6-98a9-3ec9951b0d0b"
      },
      "execution_count": 93,
      "outputs": [
        {
          "output_type": "display_data",
          "data": {
            "text/html": [
              "for i,row in enumerate(table_rows):\n",
              "  print(\"row\", i)\n",
              "  cells=row.find_all(\"td\")\n",
              "\n",
              "  for j,cell in enumerate(cells):\n",
              "    print(\"column\", j, \"cell\", cell)"
            ],
            "text/plain": [
              "<IPython.core.display.HTML object>"
            ]
          },
          "metadata": {}
        }
      ]
    },
    {
      "cell_type": "markdown",
      "source": [
        "##### **Error: Overview Python Program**"
      ],
      "metadata": {
        "id": "HByzZE6dBVyb"
      }
    },
    {
      "cell_type": "code",
      "source": [
        "%%html\n",
        "import requests\n",
        "from bs4 import BeautifulSoup\n",
        "page = requests.get(\"http://EnterWebsiteURL...).text"
      ],
      "metadata": {
        "colab": {
          "base_uri": "https://localhost:8080/",
          "height": 34
        },
        "id": "IpWi96DJCFcD",
        "outputId": "4cbb2ee9-855b-4903-f42a-a789e0ff5e92"
      },
      "execution_count": 96,
      "outputs": [
        {
          "output_type": "display_data",
          "data": {
            "text/html": [
              "import requests\n",
              "from bs4 import BeautifulSoup\n",
              "page = requests.get(\"http://EnterWebsiteURL...).text"
            ],
            "text/plain": [
              "<IPython.core.display.HTML object>"
            ]
          },
          "metadata": {}
        }
      ]
    },
    {
      "cell_type": "code",
      "source": [
        "# Creates a BeautifulSoup object\n",
        "%%html\n",
        "soup= BeautifulSoup(page, \"html.parser\")"
      ],
      "metadata": {
        "colab": {
          "base_uri": "https://localhost:8080/",
          "height": 34
        },
        "id": "B0V-Y6I9B7T2",
        "outputId": "ec2e3da5-dca0-44c9-9d53-8ab47d9ee80c"
      },
      "execution_count": 98,
      "outputs": [
        {
          "output_type": "display_data",
          "data": {
            "text/html": [
              "soup= BeautifulSoup(page, \"html.parser\")"
            ],
            "text/plain": [
              "<IPython.core.display.HTML object>"
            ]
          },
          "metadata": {}
        }
      ]
    },
    {
      "cell_type": "code",
      "source": [
        "# Pulls all instances of <a> tag\n",
        "%%html\n",
        "artists= soup.find_all('a')"
      ],
      "metadata": {
        "colab": {
          "base_uri": "https://localhost:8080/",
          "height": 34
        },
        "id": "TvO_fWxKCTzp",
        "outputId": "0ee32be9-8505-4ec1-e01d-4806bb7a57bc"
      },
      "execution_count": 99,
      "outputs": [
        {
          "output_type": "display_data",
          "data": {
            "text/html": [
              "artists= soup.find_all('a')"
            ],
            "text/plain": [
              "<IPython.core.display.HTML object>"
            ]
          },
          "metadata": {}
        }
      ]
    },
    {
      "cell_type": "code",
      "source": [
        "# Clears data of all tags\n",
        "%%html\n",
        "for artist in artists:\n",
        "    names = artist.contents[0]\n",
        "    fullLink = artist.get('href')\n",
        "    print(names)\n",
        "    print(fullLink)\n"
      ],
      "metadata": {
        "colab": {
          "base_uri": "https://localhost:8080/",
          "height": 34
        },
        "id": "GIoCrCkECfTe",
        "outputId": "c9d308a4-1a8b-4f52-f1a7-ae9627e6efea"
      },
      "execution_count": 100,
      "outputs": [
        {
          "output_type": "display_data",
          "data": {
            "text/html": [
              "for artist in artists:\n",
              "    names = artist.contents[0]\n",
              "    fullLink = artist.get('href')\n",
              "    print(names)\n",
              "    print(fullLink)"
            ],
            "text/plain": [
              "<IPython.core.display.HTML object>"
            ]
          },
          "metadata": {}
        }
      ]
    },
    {
      "cell_type": "markdown",
      "source": [
        "## **E.G. (API Architecture)**"
      ],
      "metadata": {
        "id": "5Q6N_2z14rZ8"
      }
    },
    {
      "cell_type": "code",
      "source": [
        "# Beautiful Soup Object\n",
        "   # Tag\n",
        "   # Children, Parents, and Siblings\n",
        "   # HTML Attributes\n",
        "   # Navigable String\n",
        "\n",
        "# Filter\n",
        "   # find All\n",
        "   # find\n",
        "   # HTML Attributes\n",
        "   # Navigable String\n",
        "\n",
        "# DOwnloading And Scraping The contents Of A Web\n"
      ],
      "metadata": {
        "id": "e1ZA5LAF5A71"
      },
      "execution_count": null,
      "outputs": []
    },
    {
      "cell_type": "markdown",
      "source": [
        "#### **libraries & Beautiful Soup Objects**"
      ],
      "metadata": {
        "id": "dKsiS3SD5pf1"
      }
    },
    {
      "cell_type": "code",
      "source": [
        "#!! libraries installation\n",
        "\n",
        "%%html\n",
        "!mamba install bs4==4.10.0 -y\n",
        "!pip install lxml==4.6.4\n",
        "!mamba install html5lib==1.1 -y\n",
        "# !pip installrequests==2.26.0"
      ],
      "metadata": {
        "colab": {
          "base_uri": "https://localhost:8080/",
          "height": 34
        },
        "id": "UuwpKtWe6Fxl",
        "outputId": "a9996988-1029-4711-c40f-19c44d412a04"
      },
      "execution_count": 102,
      "outputs": [
        {
          "output_type": "display_data",
          "data": {
            "text/html": [
              "!mamba install bs4==4.10.0 -y\n",
              "!pip install lxml==4.6.4\n",
              "!mamba install html5lib==1.1 -y\n",
              "# !pip installrequests==2.26.0"
            ],
            "text/plain": [
              "<IPython.core.display.HTML object>"
            ]
          },
          "metadata": {}
        }
      ]
    },
    {
      "cell_type": "code",
      "source": [
        "#!! (Beautiful Soup Objects)\n",
        "\n",
        "# Consider the HTML:\n",
        "\n",
        "%%html\n",
        "<!DOCTYPE html>\n",
        "<html>\n",
        "<head>\n",
        "<title>Page Title</title>\n",
        "</head>\n",
        "<body>\n",
        "<h3><b id='boldest'> Lebron James </b></h3>\n",
        "<p> Salary: $ 92,000,000 </p>\n",
        "<h3> Stephen Curry </h3>\n",
        "<p> Salary: &85,000,000 </p>\n",
        "<h3> Kevin Durant </h3>\n",
        "<p> Salary: $73,200,000 </p>\n",
        "</body>\n",
        "</html>\n",
        "\n",
        "\n"
      ],
      "metadata": {
        "colab": {
          "base_uri": "https://localhost:8080/",
          "height": 203
        },
        "id": "3WNWLUi16zu1",
        "outputId": "8faf5010-956c-4833-8f28-d929c8f64de4"
      },
      "execution_count": 103,
      "outputs": [
        {
          "output_type": "display_data",
          "data": {
            "text/html": [
              "<!DOCTYPE html>\n",
              "<html>\n",
              "<head>\n",
              "<title>Page Title</title>\n",
              "</head>\n",
              "<body>\n",
              "<h3><b id='boldest'> Lebron James </b></h3>\n",
              "<p> Salary: $ 92,000,000 </p>\n",
              "<h3> Stephen Curry </h3>\n",
              "<p> Salary: &85,000,000 </p>\n",
              "<h3> Kevin Durant </h3>\n",
              "<p> Salary: $73,200,000 </p>\n",
              "</body>\n",
              "</html>\n",
              "\n"
            ],
            "text/plain": [
              "<IPython.core.display.HTML object>"
            ]
          },
          "metadata": {}
        }
      ]
    },
    {
      "cell_type": "code",
      "source": [
        "# We can store it as a (string) in the (variable HTML):\n",
        "# but Error occurred if it have multiple rows\n",
        "# Error disappered after (meger) all codes (into 1 row)\n",
        "\n",
        "html=\"<!DOCTYPE html><html><head><title>Page Title</title></head><body><h3><b id='boldest'> Lebron James </b></h3><p> Salary: $ 92,000,000 </p><h3> Stephen Curry </h3><p> Salary: &85,000,000 </p><h3> Kevin Durant </h3><p> Salary: $73,200,000 </p></body></html>\""
      ],
      "metadata": {
        "id": "ux-vZkVx9bHa"
      },
      "execution_count": 104,
      "outputs": []
    },
    {
      "cell_type": "code",
      "source": [
        "# To parse a document, pass it into the (BeautifulSoup) (constructor)\n",
        "\n",
        "%%html\n",
        "soup = BeautifulSoup(html, \"html.parser\")\n"
      ],
      "metadata": {
        "colab": {
          "base_uri": "https://localhost:8080/",
          "height": 34
        },
        "id": "tAMBU8Rh-jOl",
        "outputId": "5e62e472-eb12-48f6-e510-bd49c240b102"
      },
      "execution_count": 106,
      "outputs": [
        {
          "output_type": "display_data",
          "data": {
            "text/html": [
              "soup = BeautifulSoup(html, \"html.parser\")"
            ],
            "text/plain": [
              "<IPython.core.display.HTML object>"
            ]
          },
          "metadata": {}
        }
      ]
    },
    {
      "cell_type": "markdown",
      "source": [
        ""
      ],
      "metadata": {
        "id": "F9g_wRKY4-Um"
      }
    }
  ]
}